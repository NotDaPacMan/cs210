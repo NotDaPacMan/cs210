{
 "cells": [
  {
   "cell_type": "code",
   "execution_count": 2,
   "id": "26554f69-3e3f-45fe-8124-ec05402dd28b",
   "metadata": {},
   "outputs": [],
   "source": [
    "import pandas as pd\n",
    "import os\n",
    "from IPython.display import display, Markdown # For explicitly controlling display and adding text\n",
    "import matplotlib.pyplot as plt\n",
    "import matplotlib.dates as mdates\n",
    "from matplotlib.patches import Patch\n",
    "import seaborn as sns\n",
    "import numpy as np\n",
    "from scipy import stats\n",
    "import statsmodels.formula.api as smf\n",
    "from datetime import timedelta\n",
    "from sklearn.linear_model import Lasso, Ridge\n",
    "from sklearn.metrics import mean_squared_error, mean_absolute_error, r2_score\n",
    "from sklearn.linear_model import LassoCV\n",
    "from sklearn.linear_model import LassoCV\n",
    "from sklearn.preprocessing import StandardScaler\n",
    "from sklearn.pipeline import Pipeline\n",
    "from sklearn.metrics import mean_squared_error, r2_score"
   ]
  },
  {
   "cell_type": "code",
   "execution_count": 3,
   "id": "60561ffb-48a0-40df-9a5b-58299d2e1451",
   "metadata": {},
   "outputs": [],
   "source": [
    "file_path_1 = r'C:\\Users\\REALD\\Documents\\RIA\\caiso_curtailment.csv'\n",
    "file_path_2 = r'C:\\Users\\REALD\\Documents\\RIA\\caiso_standard.csv'\n",
    "file_path_3 = r'C:\\Users\\REALD\\Documents\\RIA\\caiso_renewable_forecast.csv'\n",
    "file_path_4 = r'C:\\Users\\REALD\\Documents\\RIA\\caiso_load_forecast.csv'\n",
    "file_path_5 = r'C:\\Users\\REALD\\Documents\\RIA\\caiso_lmp.csv'\n",
    "\n",
    "curtailment = pd.read_csv(file_path_1)\n",
    "data = pd.read_csv(file_path_2)\n",
    "renewable = pd.read_csv(file_path_3)\n",
    "load = pd.read_csv(file_path_4)\n",
    "lmp = pd.read_csv(file_path_5)"
   ]
  },
  {
   "cell_type": "code",
   "execution_count": 4,
   "id": "dab649da-968e-45e3-8811-0e7296bac816",
   "metadata": {},
   "outputs": [],
   "source": [
    "for x in [curtailment, data, renewable, load, lmp]:\n",
    "    x.drop('interval_start_local', axis=1, inplace=True)\n",
    "    x.drop('interval_end_local', axis=1, inplace=True)\n",
    "    x.drop('interval_end_utc', axis=1, inplace=True)\n",
    "    x['interval_start_utc'] = pd.to_datetime(x['interval_start_utc'])"
   ]
  },
  {
   "cell_type": "code",
   "execution_count": 5,
   "id": "276f10a0-cff4-4638-b21b-a30248c4752c",
   "metadata": {},
   "outputs": [],
   "source": [
    "renewable['publish_time_utc'] = pd.to_datetime(renewable['publish_time_utc'])"
   ]
  },
  {
   "cell_type": "code",
   "execution_count": 6,
   "id": "cfdac1f8-f1e0-45b2-8d9d-4930d0beb0c9",
   "metadata": {},
   "outputs": [],
   "source": [
    "renewable = renewable.loc[renewable.groupby('interval_start_utc')['publish_time_utc'].idxmax()]"
   ]
  },
  {
   "cell_type": "code",
   "execution_count": 7,
   "id": "f0ac7d87-e3b3-4504-947c-872d8611d573",
   "metadata": {},
   "outputs": [],
   "source": [
    "lmp_avg = lmp.groupby('interval_start_utc')[['lmp', 'energy', 'congestion', 'loss', 'ghg']].mean().reset_index()"
   ]
  },
  {
   "cell_type": "code",
   "execution_count": 8,
   "id": "5d879d08-7895-410e-b836-c39dab50548d",
   "metadata": {},
   "outputs": [
    {
     "data": {
      "text/html": [
       "<div>\n",
       "<style scoped>\n",
       "    .dataframe tbody tr th:only-of-type {\n",
       "        vertical-align: middle;\n",
       "    }\n",
       "\n",
       "    .dataframe tbody tr th {\n",
       "        vertical-align: top;\n",
       "    }\n",
       "\n",
       "    .dataframe thead th {\n",
       "        text-align: right;\n",
       "    }\n",
       "</style>\n",
       "<table border=\"1\" class=\"dataframe\">\n",
       "  <thead>\n",
       "    <tr style=\"text-align: right;\">\n",
       "      <th></th>\n",
       "      <th>interval_start_utc</th>\n",
       "      <th>lmp_diff</th>\n",
       "      <th>energy_diff</th>\n",
       "      <th>congestion_diff</th>\n",
       "      <th>loss_diff</th>\n",
       "      <th>ghg_diff</th>\n",
       "    </tr>\n",
       "  </thead>\n",
       "  <tbody>\n",
       "    <tr>\n",
       "      <th>0</th>\n",
       "      <td>2022-01-01 08:00:00+00:00</td>\n",
       "      <td>1.877925</td>\n",
       "      <td>0.0</td>\n",
       "      <td>0.0</td>\n",
       "      <td>1.877925</td>\n",
       "      <td>0.0</td>\n",
       "    </tr>\n",
       "    <tr>\n",
       "      <th>1</th>\n",
       "      <td>2022-01-01 09:00:00+00:00</td>\n",
       "      <td>0.000000</td>\n",
       "      <td>0.0</td>\n",
       "      <td>0.0</td>\n",
       "      <td>0.000000</td>\n",
       "      <td>0.0</td>\n",
       "    </tr>\n",
       "    <tr>\n",
       "      <th>2</th>\n",
       "      <td>2022-01-01 10:00:00+00:00</td>\n",
       "      <td>1.535882</td>\n",
       "      <td>0.0</td>\n",
       "      <td>0.0</td>\n",
       "      <td>1.535883</td>\n",
       "      <td>0.0</td>\n",
       "    </tr>\n",
       "    <tr>\n",
       "      <th>3</th>\n",
       "      <td>2022-01-01 11:00:00+00:00</td>\n",
       "      <td>2.526922</td>\n",
       "      <td>0.0</td>\n",
       "      <td>0.0</td>\n",
       "      <td>2.526930</td>\n",
       "      <td>0.0</td>\n",
       "    </tr>\n",
       "    <tr>\n",
       "      <th>4</th>\n",
       "      <td>2022-01-01 12:00:00+00:00</td>\n",
       "      <td>2.743608</td>\n",
       "      <td>0.0</td>\n",
       "      <td>0.0</td>\n",
       "      <td>2.743603</td>\n",
       "      <td>0.0</td>\n",
       "    </tr>\n",
       "  </tbody>\n",
       "</table>\n",
       "</div>"
      ],
      "text/plain": [
       "         interval_start_utc  lmp_diff  energy_diff  congestion_diff  \\\n",
       "0 2022-01-01 08:00:00+00:00  1.877925          0.0              0.0   \n",
       "1 2022-01-01 09:00:00+00:00  0.000000          0.0              0.0   \n",
       "2 2022-01-01 10:00:00+00:00  1.535882          0.0              0.0   \n",
       "3 2022-01-01 11:00:00+00:00  2.526922          0.0              0.0   \n",
       "4 2022-01-01 12:00:00+00:00  2.743608          0.0              0.0   \n",
       "\n",
       "   loss_diff  ghg_diff  \n",
       "0   1.877925       0.0  \n",
       "1   0.000000       0.0  \n",
       "2   1.535883       0.0  \n",
       "3   2.526930       0.0  \n",
       "4   2.743603       0.0  "
      ]
     },
     "execution_count": 8,
     "metadata": {},
     "output_type": "execute_result"
    }
   ],
   "source": [
    "# list of the columns you want diffs for\n",
    "cols = ['lmp', 'energy', 'congestion', 'loss', 'ghg']\n",
    "\n",
    "# compute max – min per interval\n",
    "lmp_diffs = (\n",
    "    lmp\n",
    "    .groupby('interval_start_utc')[cols]\n",
    "    .max()\n",
    "    .subtract(\n",
    "        lmp.groupby('interval_start_utc')[cols].min()\n",
    "    )\n",
    "    .rename(columns=lambda c: f\"{c}_diff\")\n",
    "    .reset_index()\n",
    ")\n",
    "\n",
    "# diffs now has columns: interval_start_utc, lmp_diff, energy_diff, congestion_diff, loss_diff, ghg_diff\n",
    "lmp_diffs.head(5)"
   ]
  },
  {
   "cell_type": "code",
   "execution_count": 9,
   "id": "1e5a50b5-eae1-47c3-85a0-f7a13ac14834",
   "metadata": {},
   "outputs": [],
   "source": [
    "curtailmentx = curtailment.groupby(['interval_start_utc', 'fuel_type'])[['curtailment_mwh', 'curtailment_mw']].sum().reset_index()"
   ]
  },
  {
   "cell_type": "code",
   "execution_count": 10,
   "id": "b389e496-6a7f-4e18-9533-4d1f3e8899de",
   "metadata": {},
   "outputs": [],
   "source": [
    "curtailment_grouped = curtailmentx.groupby(['interval_start_utc'])[['curtailment_mwh', 'curtailment_mw']].sum().reset_index()"
   ]
  },
  {
   "cell_type": "code",
   "execution_count": 11,
   "id": "c515a5b8-63bd-4e98-95de-1542024ed224",
   "metadata": {},
   "outputs": [],
   "source": [
    "curtailment_solar = curtailmentx[curtailmentx['fuel_type'] == 'Solar'].copy()"
   ]
  },
  {
   "cell_type": "code",
   "execution_count": 12,
   "id": "363fd011-17dc-47e3-ac49-40dd7ae6dfe4",
   "metadata": {},
   "outputs": [],
   "source": [
    "curtailment_wind = curtailmentx[curtailmentx['fuel_type'] == 'Wind'].copy()"
   ]
  },
  {
   "cell_type": "code",
   "execution_count": 13,
   "id": "eea79a72-92c1-4d9d-82b7-a695f26f1da5",
   "metadata": {},
   "outputs": [],
   "source": [
    "load['net_load_forecast'] = load['load_forecast'] - renewable['solar_mw'] - renewable['wind_mw']"
   ]
  },
  {
   "cell_type": "code",
   "execution_count": 14,
   "id": "2be1e71a-001c-469f-ac7d-f9803f2c8f4d",
   "metadata": {},
   "outputs": [
    {
     "data": {
      "text/plain": [
       "['interval_start_utc', 'load_forecast', 'net_load_forecast']"
      ]
     },
     "execution_count": 14,
     "metadata": {},
     "output_type": "execute_result"
    }
   ],
   "source": [
    "load.drop(['publish_time_local', 'publish_time_utc', 'tac_area_name'], axis=1, inplace=True)\n",
    "load.columns.tolist()"
   ]
  },
  {
   "cell_type": "code",
   "execution_count": 15,
   "id": "37cd3fef-2494-4197-9c52-039ffa1b2a9f",
   "metadata": {},
   "outputs": [
    {
     "data": {
      "text/plain": [
       "['interval_start_utc', 'solar_mw', 'wind_mw']"
      ]
     },
     "execution_count": 15,
     "metadata": {},
     "output_type": "execute_result"
    }
   ],
   "source": [
    "renewable.drop(['location', 'publish_time_local', 'publish_time_utc'], axis=1, inplace=True)\n",
    "renewable.columns.tolist()"
   ]
  },
  {
   "cell_type": "code",
   "execution_count": 16,
   "id": "7a07e183-4728-483a-a813-2a150564c955",
   "metadata": {},
   "outputs": [
    {
     "data": {
      "text/plain": [
       "['interval_start_utc', 'total_curtailment_mw']"
      ]
     },
     "execution_count": 16,
     "metadata": {},
     "output_type": "execute_result"
    }
   ],
   "source": [
    "curtailment_grouped.drop(['curtailment_mwh'], axis=1, inplace=True)\n",
    "curtailment_grouped.rename(columns={'curtailment_mw': 'total_curtailment_mw'}, inplace=True)\n",
    "curtailment_grouped.columns.tolist()"
   ]
  },
  {
   "cell_type": "code",
   "execution_count": 17,
   "id": "e1baecd4-8265-474c-ac2d-d6d2c7f47b56",
   "metadata": {},
   "outputs": [
    {
     "data": {
      "text/plain": [
       "['interval_start_utc', 'solar_curtailment_mw']"
      ]
     },
     "execution_count": 17,
     "metadata": {},
     "output_type": "execute_result"
    }
   ],
   "source": [
    "curtailment_solar.rename(columns={'curtailment_mw' : 'solar_curtailment_mw'}, inplace=True)\n",
    "curtailment_solar.drop(['fuel_type', 'curtailment_mwh'], axis=1, inplace=True)\n",
    "curtailment_solar.columns.tolist()"
   ]
  },
  {
   "cell_type": "code",
   "execution_count": 18,
   "id": "11773914-ab9a-4119-9963-15d1102a657a",
   "metadata": {},
   "outputs": [
    {
     "data": {
      "text/plain": [
       "['interval_start_utc', 'wind_curtailment_mw']"
      ]
     },
     "execution_count": 18,
     "metadata": {},
     "output_type": "execute_result"
    }
   ],
   "source": [
    "curtailment_wind.rename(columns={'curtailment_mw' : 'wind_curtailment_mw'}, inplace=True)\n",
    "curtailment_wind.drop(['fuel_type', 'curtailment_mwh'], axis=1, inplace=True)\n",
    "curtailment_wind.columns.tolist()"
   ]
  },
  {
   "cell_type": "code",
   "execution_count": 19,
   "id": "b27c7224-edcb-4ef4-be53-b2d649816692",
   "metadata": {},
   "outputs": [],
   "source": [
    "data['total_generation'] = data.filter(like='fuel_mix.').sum(axis=1)"
   ]
  },
  {
   "cell_type": "code",
   "execution_count": 20,
   "id": "5846736d-f1ef-482f-a78c-22356aa5f0d0",
   "metadata": {},
   "outputs": [],
   "source": [
    "df = pd.merge(data, load, on='interval_start_utc', how='inner')\n",
    "df = pd.merge(df, renewable, on='interval_start_utc', how='inner')\n",
    "df = pd.merge(df, curtailment_grouped, on='interval_start_utc', how='left')\n",
    "df = pd.merge(df, curtailment_solar, on='interval_start_utc', how='left')\n",
    "df = pd.merge(df, curtailment_wind, on='interval_start_utc', how='left')\n",
    "df = pd.merge(df, lmp_avg, on='interval_start_utc', how='inner')\n",
    "df = pd.merge(df, lmp_diffs, on='interval_start_utc', how='inner')"
   ]
  },
  {
   "cell_type": "code",
   "execution_count": 21,
   "id": "b9b12352-c650-4eda-9837-d4901a8daa0b",
   "metadata": {},
   "outputs": [],
   "source": [
    "# 1b) any interval with no row in curtailment_grouped now has NaN → make that 0\n",
    "df['total_curtailment_mw'] = df['total_curtailment_mw'].fillna(0)\n",
    "df['solar_curtailment_mw'] = df['solar_curtailment_mw'].fillna(0)\n",
    "df['wind_curtailment_mw'] = df['wind_curtailment_mw'].fillna(0)\n",
    "\n",
    "# 1c) compute percent\n",
    "df['percent'] = df['total_curtailment_mw'] / df['total_generation']"
   ]
  },
  {
   "cell_type": "code",
   "execution_count": 22,
   "id": "6ca70df4-c750-4787-9dd3-e25929c633be",
   "metadata": {},
   "outputs": [],
   "source": [
    "df['interval_pacific'] = df['interval_start_utc'].dt.tz_convert('America/Los_Angeles')"
   ]
  },
  {
   "cell_type": "code",
   "execution_count": 23,
   "id": "ec041458-b281-4dd2-9aa9-1ec951efb078",
   "metadata": {},
   "outputs": [],
   "source": [
    "df.drop(['interval_start_utc'], axis=1, inplace=True)"
   ]
  },
  {
   "cell_type": "code",
   "execution_count": 24,
   "id": "45c8583c-427a-45b4-a7c8-3a9d5055d211",
   "metadata": {},
   "outputs": [],
   "source": [
    "# 2a) Extract day‐of‐week as a string\n",
    "df['day_of_week'] = df['interval_pacific'].dt.day_name()  # Monday, Tuesday, …\n",
    "\n",
    "# 2b) Extract month as integer (1–12) and hour\n",
    "df['month'] = df['interval_pacific'].dt.month          # 1, 2, …, 12\n",
    "df['hour']  = df['interval_pacific'].dt.hour           # 0, 1, …, 23\n",
    "\n",
    "# 3) One‐hot encode\n",
    "dow_dummies    = pd.get_dummies(df['day_of_week'], prefix='dow')\n",
    "month_dummies  = pd.get_dummies(df['month'],          prefix='month')\n",
    "hour_dummies   = pd.get_dummies(df['hour'],           prefix='hour')\n",
    "\n",
    "# 4) Append back onto your DataFrame\n",
    "df = pd.concat([df, dow_dummies, month_dummies, hour_dummies], axis=1)"
   ]
  },
  {
   "cell_type": "code",
   "execution_count": 25,
   "id": "977e106f-f946-4661-8097-fccc21712e31",
   "metadata": {},
   "outputs": [
    {
     "data": {
      "text/html": [
       "<div>\n",
       "<style scoped>\n",
       "    .dataframe tbody tr th:only-of-type {\n",
       "        vertical-align: middle;\n",
       "    }\n",
       "\n",
       "    .dataframe tbody tr th {\n",
       "        vertical-align: top;\n",
       "    }\n",
       "\n",
       "    .dataframe thead th {\n",
       "        text-align: right;\n",
       "    }\n",
       "</style>\n",
       "<table border=\"1\" class=\"dataframe\">\n",
       "  <thead>\n",
       "    <tr style=\"text-align: right;\">\n",
       "      <th></th>\n",
       "      <th>load_forecast.load_forecast</th>\n",
       "      <th>net_load</th>\n",
       "      <th>renewables</th>\n",
       "      <th>renewables_to_load_ratio</th>\n",
       "      <th>load.load</th>\n",
       "      <th>fuel_mix.solar</th>\n",
       "      <th>fuel_mix.wind</th>\n",
       "      <th>fuel_mix.geothermal</th>\n",
       "      <th>fuel_mix.biomass</th>\n",
       "      <th>fuel_mix.biogas</th>\n",
       "      <th>...</th>\n",
       "      <th>hour_14</th>\n",
       "      <th>hour_15</th>\n",
       "      <th>hour_16</th>\n",
       "      <th>hour_17</th>\n",
       "      <th>hour_18</th>\n",
       "      <th>hour_19</th>\n",
       "      <th>hour_20</th>\n",
       "      <th>hour_21</th>\n",
       "      <th>hour_22</th>\n",
       "      <th>hour_23</th>\n",
       "    </tr>\n",
       "  </thead>\n",
       "  <tbody>\n",
       "    <tr>\n",
       "      <th>0</th>\n",
       "      <td>22664.759167</td>\n",
       "      <td>18229.750000</td>\n",
       "      <td>6543.916667</td>\n",
       "      <td>0.295315</td>\n",
       "      <td>22159.083333</td>\n",
       "      <td>-31.916667</td>\n",
       "      <td>3961.250000</td>\n",
       "      <td>879.000000</td>\n",
       "      <td>274.583333</td>\n",
       "      <td>210.000000</td>\n",
       "      <td>...</td>\n",
       "      <td>False</td>\n",
       "      <td>False</td>\n",
       "      <td>False</td>\n",
       "      <td>False</td>\n",
       "      <td>False</td>\n",
       "      <td>False</td>\n",
       "      <td>False</td>\n",
       "      <td>False</td>\n",
       "      <td>False</td>\n",
       "      <td>False</td>\n",
       "    </tr>\n",
       "    <tr>\n",
       "      <th>1</th>\n",
       "      <td>21823.094167</td>\n",
       "      <td>17812.750000</td>\n",
       "      <td>6184.000000</td>\n",
       "      <td>0.289143</td>\n",
       "      <td>21387.333333</td>\n",
       "      <td>-32.000000</td>\n",
       "      <td>3606.583333</td>\n",
       "      <td>877.666667</td>\n",
       "      <td>280.750000</td>\n",
       "      <td>210.833333</td>\n",
       "      <td>...</td>\n",
       "      <td>False</td>\n",
       "      <td>False</td>\n",
       "      <td>False</td>\n",
       "      <td>False</td>\n",
       "      <td>False</td>\n",
       "      <td>False</td>\n",
       "      <td>False</td>\n",
       "      <td>False</td>\n",
       "      <td>False</td>\n",
       "      <td>False</td>\n",
       "    </tr>\n",
       "    <tr>\n",
       "      <th>2</th>\n",
       "      <td>21163.079167</td>\n",
       "      <td>17657.333333</td>\n",
       "      <td>5710.583333</td>\n",
       "      <td>0.274644</td>\n",
       "      <td>20792.666667</td>\n",
       "      <td>-32.000000</td>\n",
       "      <td>3167.333333</td>\n",
       "      <td>877.333333</td>\n",
       "      <td>282.166667</td>\n",
       "      <td>210.500000</td>\n",
       "      <td>...</td>\n",
       "      <td>False</td>\n",
       "      <td>False</td>\n",
       "      <td>False</td>\n",
       "      <td>False</td>\n",
       "      <td>False</td>\n",
       "      <td>False</td>\n",
       "      <td>False</td>\n",
       "      <td>False</td>\n",
       "      <td>False</td>\n",
       "      <td>False</td>\n",
       "    </tr>\n",
       "    <tr>\n",
       "      <th>3</th>\n",
       "      <td>20790.173125</td>\n",
       "      <td>17527.750000</td>\n",
       "      <td>5237.166667</td>\n",
       "      <td>0.256553</td>\n",
       "      <td>20413.583333</td>\n",
       "      <td>-33.166667</td>\n",
       "      <td>2919.000000</td>\n",
       "      <td>877.500000</td>\n",
       "      <td>279.666667</td>\n",
       "      <td>210.750000</td>\n",
       "      <td>...</td>\n",
       "      <td>False</td>\n",
       "      <td>False</td>\n",
       "      <td>False</td>\n",
       "      <td>False</td>\n",
       "      <td>False</td>\n",
       "      <td>False</td>\n",
       "      <td>False</td>\n",
       "      <td>False</td>\n",
       "      <td>False</td>\n",
       "      <td>False</td>\n",
       "    </tr>\n",
       "    <tr>\n",
       "      <th>4</th>\n",
       "      <td>20750.285833</td>\n",
       "      <td>17761.583333</td>\n",
       "      <td>5028.333333</td>\n",
       "      <td>0.246314</td>\n",
       "      <td>20414.333333</td>\n",
       "      <td>-33.083333</td>\n",
       "      <td>2685.833333</td>\n",
       "      <td>879.250000</td>\n",
       "      <td>282.333333</td>\n",
       "      <td>211.000000</td>\n",
       "      <td>...</td>\n",
       "      <td>False</td>\n",
       "      <td>False</td>\n",
       "      <td>False</td>\n",
       "      <td>False</td>\n",
       "      <td>False</td>\n",
       "      <td>False</td>\n",
       "      <td>False</td>\n",
       "      <td>False</td>\n",
       "      <td>False</td>\n",
       "      <td>False</td>\n",
       "    </tr>\n",
       "  </tbody>\n",
       "</table>\n",
       "<p>5 rows × 84 columns</p>\n",
       "</div>"
      ],
      "text/plain": [
       "   load_forecast.load_forecast      net_load   renewables  \\\n",
       "0                 22664.759167  18229.750000  6543.916667   \n",
       "1                 21823.094167  17812.750000  6184.000000   \n",
       "2                 21163.079167  17657.333333  5710.583333   \n",
       "3                 20790.173125  17527.750000  5237.166667   \n",
       "4                 20750.285833  17761.583333  5028.333333   \n",
       "\n",
       "   renewables_to_load_ratio     load.load  fuel_mix.solar  fuel_mix.wind  \\\n",
       "0                  0.295315  22159.083333      -31.916667    3961.250000   \n",
       "1                  0.289143  21387.333333      -32.000000    3606.583333   \n",
       "2                  0.274644  20792.666667      -32.000000    3167.333333   \n",
       "3                  0.256553  20413.583333      -33.166667    2919.000000   \n",
       "4                  0.246314  20414.333333      -33.083333    2685.833333   \n",
       "\n",
       "   fuel_mix.geothermal  fuel_mix.biomass  fuel_mix.biogas  ...  hour_14  \\\n",
       "0           879.000000        274.583333       210.000000  ...    False   \n",
       "1           877.666667        280.750000       210.833333  ...    False   \n",
       "2           877.333333        282.166667       210.500000  ...    False   \n",
       "3           877.500000        279.666667       210.750000  ...    False   \n",
       "4           879.250000        282.333333       211.000000  ...    False   \n",
       "\n",
       "   hour_15  hour_16  hour_17  hour_18  hour_19  hour_20  hour_21  hour_22  \\\n",
       "0    False    False    False    False    False    False    False    False   \n",
       "1    False    False    False    False    False    False    False    False   \n",
       "2    False    False    False    False    False    False    False    False   \n",
       "3    False    False    False    False    False    False    False    False   \n",
       "4    False    False    False    False    False    False    False    False   \n",
       "\n",
       "   hour_23  \n",
       "0    False  \n",
       "1    False  \n",
       "2    False  \n",
       "3    False  \n",
       "4    False  \n",
       "\n",
       "[5 rows x 84 columns]"
      ]
     },
     "execution_count": 25,
     "metadata": {},
     "output_type": "execute_result"
    }
   ],
   "source": [
    "df.head(5)"
   ]
  },
  {
   "cell_type": "code",
   "execution_count": 56,
   "id": "8461394a-6c9f-4b5d-bde4-c097585d1ec6",
   "metadata": {},
   "outputs": [
    {
     "name": "stdout",
     "output_type": "stream",
     "text": [
      "Inserted 25535 rows into `curtailment`.\n"
     ]
    }
   ],
   "source": [
    "import pandas as pd\n",
    "import mysql.connector\n",
    "from mysql.connector import errorcode\n",
    "\n",
    "conn_cfg = {\n",
    "    \"user\":     \"app_user\",\n",
    "    \"password\": \"\",              # blank, as you set it\n",
    "    \"host\":     \"127.0.0.1\",\n",
    "    \"database\": \"database210\",\n",
    "    \"use_pure\": True\n",
    "}\n",
    "\n",
    "DTYPE_MAP = {\n",
    "    'int32':   'INT',\n",
    "    'float64': 'DOUBLE',\n",
    "    'bool':    'TINYINT(1)',\n",
    "    'object':  'VARCHAR(255)',\n",
    "    'datetime64[ns]': 'DATETIME'\n",
    "}\n",
    "def infer_col_type(series: pd.Series) -> str:\n",
    "    return DTYPE_MAP.get(str(series.dtype), 'VARCHAR(255)')\n",
    "\n",
    "def write_df_to_mysql(df: pd.DataFrame, table_name: str):\n",
    "    # build CREATE TABLE DDL\n",
    "    cols_ddl = []\n",
    "    for col in df.columns:\n",
    "        col_type = infer_col_type(df[col])\n",
    "        null_flag = 'NULL' if df[col].isnull().any() else 'NOT NULL'\n",
    "        cols_ddl.append(f\"`{col}` {col_type} {null_flag}\")\n",
    "    create_ddl = f\"\"\"\n",
    "    CREATE TABLE IF NOT EXISTS `{table_name}` (\n",
    "      {',\\n  '.join(cols_ddl)}\n",
    "    ) ENGINE=InnoDB;\n",
    "    \"\"\"\n",
    "\n",
    "    cnx = mysql.connector.connect(**conn_cfg)\n",
    "    cur = cnx.cursor()\n",
    "\n",
    "    try:\n",
    "        cur.execute(create_ddl)\n",
    "    except mysql.connector.Error as err:\n",
    "        if err.errno != errorcode.ER_TABLE_EXISTS_ERROR:\n",
    "            cur.close(); cnx.close()\n",
    "            raise\n",
    "\n",
    "    cols       = \", \".join(f\"`{c}`\" for c in df.columns)\n",
    "    placeholders = \", \".join([\"%s\"] * len(df.columns))\n",
    "    insert_sql   = f\"INSERT INTO `{table_name}` ({cols}) VALUES ({placeholders})\"\n",
    "\n",
    "    data = []\n",
    "    for row in df.itertuples(index=False):\n",
    "        vals = []\n",
    "        for v in row:\n",
    "            if isinstance(v, pd.Timestamp):\n",
    "                v = v.to_pydatetime()\n",
    "            vals.append(int(v) if isinstance(v, bool) else v)\n",
    "        data.append(tuple(vals))\n",
    "\n",
    "    cur.executemany(insert_sql, data)\n",
    "    cnx.commit()\n",
    "    print(f\"Inserted {cur.rowcount} rows into `{table_name}`.\")\n",
    "\n",
    "    cur.close()\n",
    "    cnx.close()\n",
    "\n",
    "write_df_to_mysql(df, table_name='curtailment')"
   ]
  },
  {
   "cell_type": "code",
   "execution_count": 58,
   "id": "9a878d32-31b4-4457-83e0-125f09f62955",
   "metadata": {},
   "outputs": [
    {
     "data": {
      "text/plain": [
       "load_forecast.load_forecast                                float64\n",
       "net_load                                                   float64\n",
       "renewables                                                 float64\n",
       "renewables_to_load_ratio                                   float64\n",
       "load.load                                                  float64\n",
       "fuel_mix.solar                                             float64\n",
       "fuel_mix.wind                                              float64\n",
       "fuel_mix.geothermal                                        float64\n",
       "fuel_mix.biomass                                           float64\n",
       "fuel_mix.biogas                                            float64\n",
       "fuel_mix.small_hydro                                       float64\n",
       "fuel_mix.coal                                              float64\n",
       "fuel_mix.nuclear                                           float64\n",
       "fuel_mix.natural_gas                                       float64\n",
       "fuel_mix.large_hydro                                       float64\n",
       "fuel_mix.batteries                                         float64\n",
       "fuel_mix.imports                                           float64\n",
       "fuel_mix.other                                             float64\n",
       "total_generation                                           float64\n",
       "load_forecast                                              float64\n",
       "net_load_forecast                                          float64\n",
       "solar_mw                                                   float64\n",
       "wind_mw                                                    float64\n",
       "total_curtailment_mw                                       float64\n",
       "solar_curtailment_mw                                       float64\n",
       "wind_curtailment_mw                                        float64\n",
       "lmp                                                        float64\n",
       "energy                                                     float64\n",
       "congestion                                                 float64\n",
       "loss                                                       float64\n",
       "ghg                                                        float64\n",
       "lmp_diff                                                   float64\n",
       "energy_diff                                                float64\n",
       "congestion_diff                                            float64\n",
       "loss_diff                                                  float64\n",
       "ghg_diff                                                   float64\n",
       "percent                                                    float64\n",
       "interval_pacific               datetime64[ns, America/Los_Angeles]\n",
       "day_of_week                                                 object\n",
       "month                                                        int32\n",
       "hour                                                         int32\n",
       "dow_Friday                                                    bool\n",
       "dow_Monday                                                    bool\n",
       "dow_Saturday                                                  bool\n",
       "dow_Sunday                                                    bool\n",
       "dow_Thursday                                                  bool\n",
       "dow_Tuesday                                                   bool\n",
       "dow_Wednesday                                                 bool\n",
       "month_1                                                       bool\n",
       "month_2                                                       bool\n",
       "month_3                                                       bool\n",
       "month_4                                                       bool\n",
       "month_5                                                       bool\n",
       "month_6                                                       bool\n",
       "month_7                                                       bool\n",
       "month_8                                                       bool\n",
       "month_9                                                       bool\n",
       "month_10                                                      bool\n",
       "month_11                                                      bool\n",
       "month_12                                                      bool\n",
       "hour_0                                                        bool\n",
       "hour_1                                                        bool\n",
       "hour_2                                                        bool\n",
       "hour_3                                                        bool\n",
       "hour_4                                                        bool\n",
       "hour_5                                                        bool\n",
       "hour_6                                                        bool\n",
       "hour_7                                                        bool\n",
       "hour_8                                                        bool\n",
       "hour_9                                                        bool\n",
       "hour_10                                                       bool\n",
       "hour_11                                                       bool\n",
       "hour_12                                                       bool\n",
       "hour_13                                                       bool\n",
       "hour_14                                                       bool\n",
       "hour_15                                                       bool\n",
       "hour_16                                                       bool\n",
       "hour_17                                                       bool\n",
       "hour_18                                                       bool\n",
       "hour_19                                                       bool\n",
       "hour_20                                                       bool\n",
       "hour_21                                                       bool\n",
       "hour_22                                                       bool\n",
       "hour_23                                                       bool\n",
       "dtype: object"
      ]
     },
     "execution_count": 58,
     "metadata": {},
     "output_type": "execute_result"
    }
   ],
   "source": [
    "pd.options.display.max_columns = None\n",
    "pd.options.display.max_rows = None\n",
    "df.dtypes"
   ]
  },
  {
   "cell_type": "code",
   "execution_count": null,
   "id": "fdc1c5ca-6095-4b6b-a65a-a65c94063165",
   "metadata": {},
   "outputs": [],
   "source": []
  }
 ],
 "metadata": {
  "kernelspec": {
   "display_name": "Python 3 (ipykernel)",
   "language": "python",
   "name": "python3"
  },
  "language_info": {
   "codemirror_mode": {
    "name": "ipython",
    "version": 3
   },
   "file_extension": ".py",
   "mimetype": "text/x-python",
   "name": "python",
   "nbconvert_exporter": "python",
   "pygments_lexer": "ipython3",
   "version": "3.12.10"
  }
 },
 "nbformat": 4,
 "nbformat_minor": 5
}
